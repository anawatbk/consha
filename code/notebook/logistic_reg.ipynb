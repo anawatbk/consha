{
 "cells": [
  {
   "cell_type": "code",
   "execution_count": 21,
   "metadata": {},
   "outputs": [],
   "source": [
    "import pandas as pd\n",
    "import numpy as np\n",
    "import os\n",
    "\n",
    "from sklearn.ensemble                    import RandomForestClassifier\n",
    "from sklearn.linear_model                import LogisticRegression\n",
    "from sklearn.model_selection             import RandomizedSearchCV\n",
    "from sklearn.model_selection             import cross_validate\n",
    "\n",
    "from sklearn.model_selection             import train_test_split\n",
    "from sklearn.preprocessing               import OrdinalEncoder\n",
    "from sklearn.feature_extraction.text     import TfidfVectorizer\n",
    "from sklearn.feature_extraction.text     import TfidfTransformer\n",
    "from sklearn.feature_extraction.text     import CountVectorizer\n",
    "from sklearn.pipeline                    import Pipeline\n",
    "from sklearn.compose                     import ColumnTransformer\n",
    "from sklearn.impute                      import SimpleImputer\n",
    "\n",
    "from sklearn.metrics                     import f1_score\n",
    "from sklearn.metrics                     import accuracy_score\n",
    "pd.set_option('display.max_colwidth', None)\n",
    "pd.set_option('display.max_rows', None)"
   ]
  },
  {
   "cell_type": "markdown",
   "metadata": {},
   "source": [
    "# Data Cleaning"
   ]
  },
  {
   "cell_type": "code",
   "execution_count": 22,
   "metadata": {},
   "outputs": [],
   "source": [
    "# load data\n",
    "ewg = pd.read_csv(\"EWG_product.csv\")\n",
    "# droping duplicates \n",
    "ewg = ewg.drop_duplicates()"
   ]
  },
  {
   "cell_type": "code",
   "execution_count": 23,
   "metadata": {},
   "outputs": [
    {
     "data": {
      "text/plain": [
       "array([1, 8, 6, 4, 3, 2, 5, 9, 7])"
      ]
     },
     "execution_count": 23,
     "metadata": {},
     "output_type": "execute_result"
    }
   ],
   "source": [
    "ewg['ingredient_score'].unique()"
   ]
  },
  {
   "cell_type": "code",
   "execution_count": 24,
   "metadata": {},
   "outputs": [
    {
     "data": {
      "text/plain": [
       "array(['verified', '4', '2', '1', '3', '5', '6', '7', '8'], dtype=object)"
      ]
     },
     "execution_count": 24,
     "metadata": {},
     "output_type": "execute_result"
    }
   ],
   "source": [
    "ewg['product_score'].unique()"
   ]
  },
  {
   "cell_type": "code",
   "execution_count": 25,
   "metadata": {},
   "outputs": [
    {
     "data": {
      "text/plain": [
       "array([0, 4, 2, 1, 3, 5, 6, 7, 8])"
      ]
     },
     "execution_count": 25,
     "metadata": {},
     "output_type": "execute_result"
    }
   ],
   "source": [
    "# convert product_score to numerical target by converting 'verified' to 0.\n",
    "ewg['product_score'] = ewg.apply(lambda x: 0 if x['product_score']=='verified' else int(x['product_score']), axis=1)\n",
    "ewg['product_score'].unique()"
   ]
  },
  {
   "cell_type": "code",
   "execution_count": 26,
   "metadata": {},
   "outputs": [],
   "source": [
    "def feature_engineering(row_df):\n",
    "    \"\"\" Input: row_df - ingredient level dataframe\n",
    "        Output: df - product level dataframe\n",
    "    \"\"\"\n",
    "    df = pd.DataFrame(row_df.groupby('product_name')['ingredient_score'].apply(list))\n",
    "    df['product_score'] = row_df.groupby('product_name')['product_score'].apply(np.mean).apply(int)\n",
    "    df['max_ingredient_score'] = df.ingredient_score.apply(lambda x: int(np.sort(x)[-1:]))\n",
    "    df['ingredient_count'] = df['ingredient_score'].apply(lambda x: len(x))\n",
    "    df['max_three'] = df.ingredient_score.apply(lambda x: np.sort(x)[-3:])\n",
    "    df['max_three_mean'] = df['max_three'].apply(np.mean)\n",
    "    \n",
    "    # count the frequency of each ingredient_score value\n",
    "    for i in range(1, 10):\n",
    "        df[f'count_{i}'] = df['ingredient_score'].apply(lambda x: x.count(i))\n",
    "\n",
    "    return df"
   ]
  },
  {
   "cell_type": "code",
   "execution_count": 27,
   "metadata": {},
   "outputs": [
    {
     "data": {
      "text/html": [
       "<div>\n",
       "<style scoped>\n",
       "    .dataframe tbody tr th:only-of-type {\n",
       "        vertical-align: middle;\n",
       "    }\n",
       "\n",
       "    .dataframe tbody tr th {\n",
       "        vertical-align: top;\n",
       "    }\n",
       "\n",
       "    .dataframe thead th {\n",
       "        text-align: right;\n",
       "    }\n",
       "</style>\n",
       "<table border=\"1\" class=\"dataframe\">\n",
       "  <thead>\n",
       "    <tr style=\"text-align: right;\">\n",
       "      <th></th>\n",
       "      <th>ingredient_score</th>\n",
       "      <th>product_score</th>\n",
       "      <th>max_ingredient_score</th>\n",
       "      <th>ingredient_count</th>\n",
       "      <th>max_three</th>\n",
       "      <th>max_three_mean</th>\n",
       "      <th>count_1</th>\n",
       "      <th>count_2</th>\n",
       "      <th>count_3</th>\n",
       "      <th>count_4</th>\n",
       "      <th>count_5</th>\n",
       "      <th>count_6</th>\n",
       "      <th>count_7</th>\n",
       "      <th>count_8</th>\n",
       "      <th>count_9</th>\n",
       "    </tr>\n",
       "    <tr>\n",
       "      <th>product_name</th>\n",
       "      <th></th>\n",
       "      <th></th>\n",
       "      <th></th>\n",
       "      <th></th>\n",
       "      <th></th>\n",
       "      <th></th>\n",
       "      <th></th>\n",
       "      <th></th>\n",
       "      <th></th>\n",
       "      <th></th>\n",
       "      <th></th>\n",
       "      <th></th>\n",
       "      <th></th>\n",
       "      <th></th>\n",
       "      <th></th>\n",
       "    </tr>\n",
       "  </thead>\n",
       "  <tbody>\n",
       "    <tr>\n",
       "      <th>'That Hit Single' Gel Cream Cleanser</th>\n",
       "      <td>[8, 4, 4, 3, 3, 2, 2, 2, 2, 2, 2, 2, 2, 1, 1, 1, 1, 1, 1, 1, 1, 1, 1, 1, 1, 1, 1, 1, 1, 1, 1, 1, 1, 1, 1, 1, 1, 1, 1, 1, 1, 1, 1, 1, 1, 1, 1]</td>\n",
       "      <td>4</td>\n",
       "      <td>8</td>\n",
       "      <td>47</td>\n",
       "      <td>[4, 4, 8]</td>\n",
       "      <td>5.333333</td>\n",
       "      <td>34</td>\n",
       "      <td>8</td>\n",
       "      <td>2</td>\n",
       "      <td>2</td>\n",
       "      <td>0</td>\n",
       "      <td>0</td>\n",
       "      <td>0</td>\n",
       "      <td>1</td>\n",
       "      <td>0</td>\n",
       "    </tr>\n",
       "    <tr>\n",
       "      <th>100% Virgin Coconut Oil Daily Hydration Face Milk Cleanser</th>\n",
       "      <td>[8, 3, 3, 2, 2, 2, 1, 1, 1, 1, 1, 1, 1, 1, 1, 1, 1, 1, 1, 1, 1, 1, 1, 1, 1, 1, 1, 1, 1, 1]</td>\n",
       "      <td>4</td>\n",
       "      <td>8</td>\n",
       "      <td>30</td>\n",
       "      <td>[3, 3, 8]</td>\n",
       "      <td>4.666667</td>\n",
       "      <td>24</td>\n",
       "      <td>3</td>\n",
       "      <td>2</td>\n",
       "      <td>0</td>\n",
       "      <td>0</td>\n",
       "      <td>0</td>\n",
       "      <td>0</td>\n",
       "      <td>1</td>\n",
       "      <td>0</td>\n",
       "    </tr>\n",
       "  </tbody>\n",
       "</table>\n",
       "</div>"
      ],
      "text/plain": [
       "                                                                                                                                                                                          ingredient_score  \\\n",
       "product_name                                                                                                                                                                                                 \n",
       " 'That Hit Single' Gel Cream Cleanser                        [8, 4, 4, 3, 3, 2, 2, 2, 2, 2, 2, 2, 2, 1, 1, 1, 1, 1, 1, 1, 1, 1, 1, 1, 1, 1, 1, 1, 1, 1, 1, 1, 1, 1, 1, 1, 1, 1, 1, 1, 1, 1, 1, 1, 1, 1, 1]   \n",
       " 100% Virgin Coconut Oil Daily Hydration Face Milk Cleanser                                                     [8, 3, 3, 2, 2, 2, 1, 1, 1, 1, 1, 1, 1, 1, 1, 1, 1, 1, 1, 1, 1, 1, 1, 1, 1, 1, 1, 1, 1, 1]   \n",
       "\n",
       "                                                             product_score  \\\n",
       "product_name                                                                 \n",
       " 'That Hit Single' Gel Cream Cleanser                                    4   \n",
       " 100% Virgin Coconut Oil Daily Hydration Face Milk Cleanser              4   \n",
       "\n",
       "                                                             max_ingredient_score  \\\n",
       "product_name                                                                        \n",
       " 'That Hit Single' Gel Cream Cleanser                                           8   \n",
       " 100% Virgin Coconut Oil Daily Hydration Face Milk Cleanser                     8   \n",
       "\n",
       "                                                             ingredient_count  \\\n",
       "product_name                                                                    \n",
       " 'That Hit Single' Gel Cream Cleanser                                      47   \n",
       " 100% Virgin Coconut Oil Daily Hydration Face Milk Cleanser                30   \n",
       "\n",
       "                                                             max_three  \\\n",
       "product_name                                                             \n",
       " 'That Hit Single' Gel Cream Cleanser                        [4, 4, 8]   \n",
       " 100% Virgin Coconut Oil Daily Hydration Face Milk Cleanser  [3, 3, 8]   \n",
       "\n",
       "                                                             max_three_mean  \\\n",
       "product_name                                                                  \n",
       " 'That Hit Single' Gel Cream Cleanser                              5.333333   \n",
       " 100% Virgin Coconut Oil Daily Hydration Face Milk Cleanser        4.666667   \n",
       "\n",
       "                                                             count_1  count_2  \\\n",
       "product_name                                                                    \n",
       " 'That Hit Single' Gel Cream Cleanser                             34        8   \n",
       " 100% Virgin Coconut Oil Daily Hydration Face Milk Cleanser       24        3   \n",
       "\n",
       "                                                             count_3  count_4  \\\n",
       "product_name                                                                    \n",
       " 'That Hit Single' Gel Cream Cleanser                              2        2   \n",
       " 100% Virgin Coconut Oil Daily Hydration Face Milk Cleanser        2        0   \n",
       "\n",
       "                                                             count_5  count_6  \\\n",
       "product_name                                                                    \n",
       " 'That Hit Single' Gel Cream Cleanser                              0        0   \n",
       " 100% Virgin Coconut Oil Daily Hydration Face Milk Cleanser        0        0   \n",
       "\n",
       "                                                             count_7  count_8  \\\n",
       "product_name                                                                    \n",
       " 'That Hit Single' Gel Cream Cleanser                              0        1   \n",
       " 100% Virgin Coconut Oil Daily Hydration Face Milk Cleanser        0        1   \n",
       "\n",
       "                                                             count_9  \n",
       "product_name                                                          \n",
       " 'That Hit Single' Gel Cream Cleanser                              0  \n",
       " 100% Virgin Coconut Oil Daily Hydration Face Milk Cleanser        0  "
      ]
     },
     "execution_count": 27,
     "metadata": {},
     "output_type": "execute_result"
    }
   ],
   "source": [
    "product = feature_engineering(ewg)\n",
    "product.head(2)"
   ]
  },
  {
   "cell_type": "code",
   "execution_count": 28,
   "metadata": {},
   "outputs": [
    {
     "name": "stdout",
     "output_type": "stream",
     "text": [
      "1.0 - 3.67\n",
      "1.0 - 3.0\n",
      "2.67 - 4.0\n",
      "3.33 - 5.33\n",
      "4.67 - 6.07\n",
      "5.33 - 7.0\n",
      "5.67 - 7.67\n",
      "6.8 - 8.67\n",
      "7.07 - 7.6\n"
     ]
    }
   ],
   "source": [
    "# look into the correlation between the product score and the mean of max_three\n",
    "result = []\n",
    "for i in range(0, 9):\n",
    "    result.append(list(product.loc[product.product_score==i].max_three.apply(np.mean)))\n",
    "    \n",
    "for r in result: \n",
    "    print(np.percentile(r, 10).round(2), '-', np.percentile(r, 90).round(2))"
   ]
  },
  {
   "cell_type": "markdown",
   "metadata": {},
   "source": [
    "# Train Test Split"
   ]
  },
  {
   "cell_type": "code",
   "execution_count": 29,
   "metadata": {},
   "outputs": [
    {
     "data": {
      "text/html": [
       "<div>\n",
       "<style scoped>\n",
       "    .dataframe tbody tr th:only-of-type {\n",
       "        vertical-align: middle;\n",
       "    }\n",
       "\n",
       "    .dataframe tbody tr th {\n",
       "        vertical-align: top;\n",
       "    }\n",
       "\n",
       "    .dataframe thead th {\n",
       "        text-align: right;\n",
       "    }\n",
       "</style>\n",
       "<table border=\"1\" class=\"dataframe\">\n",
       "  <thead>\n",
       "    <tr style=\"text-align: right;\">\n",
       "      <th></th>\n",
       "      <th>ingredient_score</th>\n",
       "      <th>product_score</th>\n",
       "      <th>max_ingredient_score</th>\n",
       "      <th>ingredient_count</th>\n",
       "      <th>max_three</th>\n",
       "      <th>max_three_mean</th>\n",
       "      <th>count_1</th>\n",
       "      <th>count_2</th>\n",
       "      <th>count_3</th>\n",
       "      <th>count_4</th>\n",
       "      <th>count_5</th>\n",
       "      <th>count_6</th>\n",
       "      <th>count_7</th>\n",
       "      <th>count_8</th>\n",
       "      <th>count_9</th>\n",
       "    </tr>\n",
       "    <tr>\n",
       "      <th>product_name</th>\n",
       "      <th></th>\n",
       "      <th></th>\n",
       "      <th></th>\n",
       "      <th></th>\n",
       "      <th></th>\n",
       "      <th></th>\n",
       "      <th></th>\n",
       "      <th></th>\n",
       "      <th></th>\n",
       "      <th></th>\n",
       "      <th></th>\n",
       "      <th></th>\n",
       "      <th></th>\n",
       "      <th></th>\n",
       "      <th></th>\n",
       "    </tr>\n",
       "  </thead>\n",
       "  <tbody>\n",
       "    <tr>\n",
       "      <th>'That Hit Single' Gel Cream Cleanser</th>\n",
       "      <td>[8, 4, 4, 3, 3, 2, 2, 2, 2, 2, 2, 2, 2, 1, 1, 1, 1, 1, 1, 1, 1, 1, 1, 1, 1, 1, 1, 1, 1, 1, 1, 1, 1, 1, 1, 1, 1, 1, 1, 1, 1, 1, 1, 1, 1, 1, 1]</td>\n",
       "      <td>4</td>\n",
       "      <td>8</td>\n",
       "      <td>47</td>\n",
       "      <td>[4, 4, 8]</td>\n",
       "      <td>5.333333</td>\n",
       "      <td>34</td>\n",
       "      <td>8</td>\n",
       "      <td>2</td>\n",
       "      <td>2</td>\n",
       "      <td>0</td>\n",
       "      <td>0</td>\n",
       "      <td>0</td>\n",
       "      <td>1</td>\n",
       "      <td>0</td>\n",
       "    </tr>\n",
       "  </tbody>\n",
       "</table>\n",
       "</div>"
      ],
      "text/plain": [
       "                                                                                                                                                                    ingredient_score  \\\n",
       "product_name                                                                                                                                                                           \n",
       " 'That Hit Single' Gel Cream Cleanser  [8, 4, 4, 3, 3, 2, 2, 2, 2, 2, 2, 2, 2, 1, 1, 1, 1, 1, 1, 1, 1, 1, 1, 1, 1, 1, 1, 1, 1, 1, 1, 1, 1, 1, 1, 1, 1, 1, 1, 1, 1, 1, 1, 1, 1, 1, 1]   \n",
       "\n",
       "                                       product_score  max_ingredient_score  \\\n",
       "product_name                                                                 \n",
       " 'That Hit Single' Gel Cream Cleanser              4                     8   \n",
       "\n",
       "                                       ingredient_count  max_three  \\\n",
       "product_name                                                         \n",
       " 'That Hit Single' Gel Cream Cleanser                47  [4, 4, 8]   \n",
       "\n",
       "                                       max_three_mean  count_1  count_2  \\\n",
       "product_name                                                              \n",
       " 'That Hit Single' Gel Cream Cleanser        5.333333       34        8   \n",
       "\n",
       "                                       count_3  count_4  count_5  count_6  \\\n",
       "product_name                                                                \n",
       " 'That Hit Single' Gel Cream Cleanser        2        2        0        0   \n",
       "\n",
       "                                       count_7  count_8  count_9  \n",
       "product_name                                                      \n",
       " 'That Hit Single' Gel Cream Cleanser        0        1        0  "
      ]
     },
     "execution_count": 29,
     "metadata": {},
     "output_type": "execute_result"
    }
   ],
   "source": [
    "features = ['ingredient_count', 'max_three_mean', 'count_1', \n",
    "            'count_2', 'count_3', 'count_4', 'count_5', 'count_6', \n",
    "            'count_7', 'count_8', 'count_9']\n",
    "product.head(1)"
   ]
  },
  {
   "cell_type": "code",
   "execution_count": 30,
   "metadata": {},
   "outputs": [],
   "source": [
    "y = product['product_score']\n",
    "X = product[features]"
   ]
  },
  {
   "cell_type": "code",
   "execution_count": 31,
   "metadata": {},
   "outputs": [],
   "source": [
    "def narrow_y_categories(input_y):\n",
    "    y_train_reduced = []\n",
    "    for y in input_y:\n",
    "        if y <= 2:\n",
    "            y_train_reduced.append(1) \n",
    "        elif y <=6:\n",
    "            y_train_reduced.append(2)\n",
    "        else: \n",
    "            y_train_reduced.append(3)\n",
    "    return y_train_reduced\n",
    "\n",
    "y_reduced = narrow_y_categories(y)"
   ]
  },
  {
   "cell_type": "code",
   "execution_count": 42,
   "metadata": {},
   "outputs": [],
   "source": [
    "X_train, X_test, y_train, y_test = train_test_split(X, y_reduced)\n",
    "X_train, X_valid, y_train, y_valid = train_test_split(X_train, y_train)"
   ]
  },
  {
   "cell_type": "markdown",
   "metadata": {},
   "source": [
    "# Model"
   ]
  },
  {
   "cell_type": "code",
   "execution_count": 43,
   "metadata": {},
   "outputs": [
    {
     "data": {
      "text/plain": [
       "(0.9026162759467443, 0.9033333333333333)"
      ]
     },
     "execution_count": 43,
     "metadata": {},
     "output_type": "execute_result"
    }
   ],
   "source": [
    "lf = LogisticRegression(max_iter=1000).fit(X_train, y_train)\n",
    "train_f1 = f1_score(y_train, lf.predict(X_train), average='weighted')\n",
    "train_acc = accuracy_score(y_train, lf.predict(X_train))\n",
    "train_f1, train_acc"
   ]
  },
  {
   "cell_type": "code",
   "execution_count": 44,
   "metadata": {},
   "outputs": [
    {
     "data": {
      "text/plain": [
       "(0.905916832753086, 0.9054726368159204)"
      ]
     },
     "execution_count": 44,
     "metadata": {},
     "output_type": "execute_result"
    }
   ],
   "source": [
    "valid_f1 = f1_score(y_valid, lf.predict(X_valid), average='weighted')\n",
    "valid_acc = accuracy_score(y_valid, lf.predict(X_valid))\n",
    "valid_f1, valid_acc"
   ]
  },
  {
   "cell_type": "code",
   "execution_count": 45,
   "metadata": {},
   "outputs": [
    {
     "data": {
      "text/plain": [
       "(0.8525661256259637, 0.850187265917603)"
      ]
     },
     "execution_count": 45,
     "metadata": {},
     "output_type": "execute_result"
    }
   ],
   "source": [
    "test_f1 = f1_score(y_test, lf.predict(X_test), average='weighted')\n",
    "test_acc = accuracy_score(y_test, lf.predict(X_test))\n",
    "test_f1, test_acc"
   ]
  },
  {
   "cell_type": "code",
   "execution_count": null,
   "metadata": {},
   "outputs": [],
   "source": []
  },
  {
   "cell_type": "code",
   "execution_count": null,
   "metadata": {},
   "outputs": [],
   "source": []
  }
 ],
 "metadata": {
  "kernelspec": {
   "display_name": "Python 3",
   "language": "python",
   "name": "python3"
  },
  "language_info": {
   "codemirror_mode": {
    "name": "ipython",
    "version": 3
   },
   "file_extension": ".py",
   "mimetype": "text/x-python",
   "name": "python",
   "nbconvert_exporter": "python",
   "pygments_lexer": "ipython3",
   "version": "3.8.2"
  }
 },
 "nbformat": 4,
 "nbformat_minor": 4
}
