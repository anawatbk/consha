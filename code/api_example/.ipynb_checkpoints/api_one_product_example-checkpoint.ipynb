{
 "cells": [
  {
   "cell_type": "code",
   "execution_count": 9,
   "metadata": {},
   "outputs": [],
   "source": [
    "import requests\n",
    "import json"
   ]
  },
  {
   "cell_type": "markdown",
   "metadata": {},
   "source": [
    "# 1. product information"
   ]
  },
  {
   "cell_type": "code",
   "execution_count": 5,
   "metadata": {},
   "outputs": [
    {
     "data": {
      "text/plain": [
       "'B00NR1YQHM'"
      ]
     },
     "execution_count": 5,
     "metadata": {},
     "output_type": "execute_result"
    }
   ],
   "source": [
    "# user input should be an amazon product url\n",
    "# we need to get the asin from this url\n",
    "url = 'https://www.amazon.com/Neutrogena-Hydro-Hyaluronic-Hydrating-Moisturizer/dp/B00NR1YQHM/ref=sr_1_2_sspa?dchild=1&keywords=skin+care&qid=1622918075&rdc=1&s=beauty&sr=1-2-spons&psc=1&spLa=ZW5jcnlwdGVkUXVhbGlmaWVyPUExWVRQWFYyOEY4QVBKJmVuY3J5cHRlZElkPUEwNjQ0NzE5Mzc5VjJXMlFaSlhDQSZlbmNyeXB0ZWRBZElkPUEwMzAyODkxM0swOTJZMlUwSkwyNiZ3aWRnZXROYW1lPXNwX2F0ZiZhY3Rpb249Y2xpY2tSZWRpcmVjdCZkb05vdExvZ0NsaWNrPXRydWU='\n",
    "asin = url.split('dp/')[1].split('/')[0]\n",
    "asin"
   ]
  },
  {
   "cell_type": "code",
   "execution_count": 7,
   "metadata": {},
   "outputs": [],
   "source": [
    "# set up the request parameters\n",
    "def product_info(asin, api_key='A717206CD4FF4232A3D84E07D395B48E'):\n",
    "    params = {\n",
    "      'api_key': api_key,\n",
    "      'type': 'product',\n",
    "      'amazon_domain': 'amazon.com',\n",
    "      'asin': asin\n",
    "    }\n",
    "\n",
    "    # make the http GET request to Rainforest API\n",
    "    api_result = requests.get('https://api.rainforestapi.com/request', params)\n",
    "\n",
    "    # print the JSON response from Rainforest API\n",
    "    #json_str = json.dumps(api_result.json())\n",
    "    res_dict = api_result.json()\n",
    "    return res_dict"
   ]
  },
  {
   "cell_type": "code",
   "execution_count": 10,
   "metadata": {},
   "outputs": [],
   "source": [
    "info = product_info(asin)"
   ]
  },
  {
   "cell_type": "code",
   "execution_count": 11,
   "metadata": {},
   "outputs": [
    {
     "data": {
      "text/plain": [
       "'Neutrogena Hydro Boost Hyaluronic Acid Hydrating Water Gel Daily Face Moisturizer for Dry Skin, Oil-Free, Non-Comedogenic Face Lotion, 1.7 fl. oz'"
      ]
     },
     "execution_count": 11,
     "metadata": {},
     "output_type": "execute_result"
    }
   ],
   "source": [
    "# product name\n",
    "info[\"product\"][\"title\"]"
   ]
  },
  {
   "cell_type": "code",
   "execution_count": 21,
   "metadata": {},
   "outputs": [
    {
     "data": {
      "text/plain": [
       "[{'name': 'Beauty & Personal Care',\n",
       "  'link': 'https://www.amazon.com/Beauty-Makeup-Skin-Hair-Products/b/ref=dp_bc_aui_C_1?ie=UTF8&node=3760911',\n",
       "  'category_id': '3760911'},\n",
       " {'name': 'Skin Care',\n",
       "  'link': 'https://www.amazon.com/Skin-Body-Face-Products/b/ref=dp_bc_aui_C_2?ie=UTF8&node=11060451',\n",
       "  'category_id': '11060451'},\n",
       " {'name': 'Face',\n",
       "  'link': 'https://www.amazon.com/Face-Skin-Care-Lotion-Products/b/ref=dp_bc_aui_C_3?ie=UTF8&node=11060711',\n",
       "  'category_id': '11060711'},\n",
       " {'name': 'Creams & Moisturizers',\n",
       "  'link': 'https://www.amazon.com/Facial-Creams-Moisturizers/b/ref=dp_bc_aui_C_4?ie=UTF8&node=11061301',\n",
       "  'category_id': '11061301'}]"
      ]
     },
     "execution_count": 21,
     "metadata": {},
     "output_type": "execute_result"
    }
   ],
   "source": [
    "# product type\n",
    "categories = info[\"product\"][\"categories\"]\n",
    "categories"
   ]
  },
  {
   "cell_type": "code",
   "execution_count": 22,
   "metadata": {},
   "outputs": [
    {
     "data": {
      "text/plain": [
       "['Beauty & Personal Care', 'Skin Care', 'Face', 'Creams & Moisturizers']"
      ]
     },
     "execution_count": 22,
     "metadata": {},
     "output_type": "execute_result"
    }
   ],
   "source": [
    "cats = [cat['name'] for cat in categories]\n",
    "cats"
   ]
  },
  {
   "cell_type": "code",
   "execution_count": 14,
   "metadata": {},
   "outputs": [
    {
     "data": {
      "text/plain": [
       "\"PRODUCT DESCRIPTION\\nPRODUCT DESCRIPTION\\n\\n\\n# 1 Hyaluronic Acid Moisturizer, based on sales data from Nielsen AOD L52W 1.2.21.\\n\\nUse Neutrogena Hydro Boost Hydrating Water Gel Moisturizer to instantly quench dry skin and boost's skin's hydration level. This oil-free face lotion quenches dry skin to keep it looking smooth, supple, and hydrated day after day. The unique water gel formula absorbs quickly like a gel, but has the long-lasting, intense moisturizing power of a cream. This daily gel moisturizer is formulated with hyaluronic acid, which is naturally found in the skin. Hyaluronic acid, a hydrator found naturally in the skin, attracts moisture and locks it in. The non-comedogenic gel facial moisturizer can be worn under makeup and leaves your skin more supple and smooth. Add this hyaluronic acid moisturizer to your at-home hydrating self care routine.\\n\\n\\n\\nBRAND STORY\\nBy Neutrogena\""
      ]
     },
     "execution_count": 14,
     "metadata": {},
     "output_type": "execute_result"
    }
   ],
   "source": [
    "# product description\n",
    "description = info[\"product\"][\"description\"]\n",
    "description"
   ]
  },
  {
   "cell_type": "code",
   "execution_count": 15,
   "metadata": {},
   "outputs": [
    {
     "data": {
      "text/plain": [
       "'Water, dimethicone, glycerin, dimethicone/vinyl dimethicone crosspolymer, phenoxyethanol, polyacrylamide, cetearyl olivate, sorbitan olivate, dimethiconol, C13?14 isoparafin, dimethicone crosspolymer, chlorphenesin, carbomer, laureth?7, sodium hyaluronate, ethylhexylglycerin, fragrance, C12?14 pareth?12, sodium hydroxide, blue 1'"
      ]
     },
     "execution_count": 15,
     "metadata": {},
     "output_type": "execute_result"
    }
   ],
   "source": [
    "# product ingredients\n",
    "sections = info[\"product\"][\"important_information\"]['sections']\n",
    "for section in sections:\n",
    "    if section['title'] == 'Ingredients':\n",
    "        ingredients = section['body']\n",
    "ingredients"
   ]
  },
  {
   "cell_type": "markdown",
   "metadata": {},
   "source": [
    "# 2. from product type to similar items"
   ]
  },
  {
   "cell_type": "code",
   "execution_count": 23,
   "metadata": {},
   "outputs": [
    {
     "data": {
      "text/plain": [
       "[{'name': 'Beauty & Personal Care',\n",
       "  'link': 'https://www.amazon.com/Beauty-Makeup-Skin-Hair-Products/b/ref=dp_bc_aui_C_1?ie=UTF8&node=3760911',\n",
       "  'category_id': '3760911'},\n",
       " {'name': 'Skin Care',\n",
       "  'link': 'https://www.amazon.com/Skin-Body-Face-Products/b/ref=dp_bc_aui_C_2?ie=UTF8&node=11060451',\n",
       "  'category_id': '11060451'},\n",
       " {'name': 'Face',\n",
       "  'link': 'https://www.amazon.com/Face-Skin-Care-Lotion-Products/b/ref=dp_bc_aui_C_3?ie=UTF8&node=11060711',\n",
       "  'category_id': '11060711'},\n",
       " {'name': 'Creams & Moisturizers',\n",
       "  'link': 'https://www.amazon.com/Facial-Creams-Moisturizers/b/ref=dp_bc_aui_C_4?ie=UTF8&node=11061301',\n",
       "  'category_id': '11061301'}]"
      ]
     },
     "execution_count": 23,
     "metadata": {},
     "output_type": "execute_result"
    }
   ],
   "source": [
    "categories"
   ]
  },
  {
   "cell_type": "code",
   "execution_count": 93,
   "metadata": {},
   "outputs": [],
   "source": [
    "# should use the last category in the list to find the best sellers"
   ]
  },
  {
   "cell_type": "code",
   "execution_count": 17,
   "metadata": {},
   "outputs": [],
   "source": [
    "category_id = categories[-1]['category_id']"
   ]
  },
  {
   "cell_type": "code",
   "execution_count": 18,
   "metadata": {},
   "outputs": [],
   "source": [
    "# set up the request parameters\n",
    "params = {\n",
    "  'api_key': 'A717206CD4FF4232A3D84E07D395B48E',\n",
    "  'type': 'category',\n",
    "  'category_id': category_id,\n",
    "  'amazon_domain': 'amazon.com',\n",
    "  'output': 'json',\n",
    "  'page': '1'  # since we just need the top n\n",
    "}\n",
    "\n",
    "# make the http GET request to Rainforest API\n",
    "api_result = requests.get('https://api.rainforestapi.com/request', params)"
   ]
  },
  {
   "cell_type": "code",
   "execution_count": 97,
   "metadata": {},
   "outputs": [],
   "source": [
    "recommend_dict = api_result.json()"
   ]
  },
  {
   "cell_type": "markdown",
   "metadata": {},
   "source": [
    "# 3. from category to best seller"
   ]
  },
  {
   "cell_type": "markdown",
   "metadata": {},
   "source": [
    "Next step: from a list of category, we need to find the best seller url. \n",
    "Then feed the url into api."
   ]
  },
  {
   "cell_type": "code",
   "execution_count": null,
   "metadata": {},
   "outputs": [],
   "source": [
    "url = 'https://www.amazon.com/Best-Sellers-Computers-Accessories-Memory-Cards/zgbs/pc/516866'"
   ]
  },
  {
   "cell_type": "code",
   "execution_count": 103,
   "metadata": {},
   "outputs": [
    {
     "name": "stdout",
     "output_type": "stream",
     "text": [
      "{\"request_info\": {\"success\": false, \"message\": \"'url' parameter must be specified when 'type=bestsellers'.\"}}\n"
     ]
    }
   ],
   "source": [
    "import requests\n",
    "\n",
    "# set up the request parameters\n",
    "params = {\n",
    "  'api_key': 'A717206CD4FF4232A3D84E07D395B48E',\n",
    "  'type': 'bestsellers',\n",
    "  'url': url\n",
    "}\n",
    "\n",
    "# make the http GET request to Rainforest API\n",
    "api_result = requests.get('https://api.rainforestapi.com/request', params)\n",
    "\n",
    "# print the JSON response from Rainforest API\n",
    "print(json.dumps(api_result.json()))"
   ]
  },
  {
   "cell_type": "code",
   "execution_count": null,
   "metadata": {},
   "outputs": [],
   "source": []
  }
 ],
 "metadata": {
  "kernelspec": {
   "display_name": "Python 3",
   "language": "python",
   "name": "python3"
  },
  "language_info": {
   "codemirror_mode": {
    "name": "ipython",
    "version": 3
   },
   "file_extension": ".py",
   "mimetype": "text/x-python",
   "name": "python",
   "nbconvert_exporter": "python",
   "pygments_lexer": "ipython3",
   "version": "3.8.2"
  }
 },
 "nbformat": 4,
 "nbformat_minor": 4
}
